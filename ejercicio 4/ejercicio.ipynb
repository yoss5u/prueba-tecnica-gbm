{
 "cells": [
  {
   "cell_type": "markdown",
   "metadata": {},
   "source": [
    "## Data Customer Classification."
   ]
  },
  {
   "cell_type": "markdown",
   "metadata": {},
   "source": [
    "### Limpieza y transformacion de datos"
   ]
  },
  {
   "cell_type": "code",
   "execution_count": 1,
   "metadata": {},
   "outputs": [],
   "source": [
    "import pandas as pd\n",
    "import seaborn as sns\n",
    "import matplotlib.pyplot as plt\n",
    "import numpy as np"
   ]
  },
  {
   "cell_type": "code",
   "execution_count": 2,
   "metadata": {},
   "outputs": [
    {
     "data": {
      "text/html": [
       "<div>\n",
       "<style scoped>\n",
       "    .dataframe tbody tr th:only-of-type {\n",
       "        vertical-align: middle;\n",
       "    }\n",
       "\n",
       "    .dataframe tbody tr th {\n",
       "        vertical-align: top;\n",
       "    }\n",
       "\n",
       "    .dataframe thead th {\n",
       "        text-align: right;\n",
       "    }\n",
       "</style>\n",
       "<table border=\"1\" class=\"dataframe\">\n",
       "  <thead>\n",
       "    <tr style=\"text-align: right;\">\n",
       "      <th></th>\n",
       "      <th>customer_id</th>\n",
       "      <th>trans_date</th>\n",
       "      <th>tran_amount</th>\n",
       "    </tr>\n",
       "  </thead>\n",
       "  <tbody>\n",
       "    <tr>\n",
       "      <th>0</th>\n",
       "      <td>CS5295</td>\n",
       "      <td>11-Feb-13</td>\n",
       "      <td>35</td>\n",
       "    </tr>\n",
       "    <tr>\n",
       "      <th>1</th>\n",
       "      <td>CS4768</td>\n",
       "      <td>15-Mar-15</td>\n",
       "      <td>39</td>\n",
       "    </tr>\n",
       "    <tr>\n",
       "      <th>2</th>\n",
       "      <td>CS2122</td>\n",
       "      <td>26-Feb-13</td>\n",
       "      <td>52</td>\n",
       "    </tr>\n",
       "    <tr>\n",
       "      <th>3</th>\n",
       "      <td>CS1217</td>\n",
       "      <td>16-Nov-11</td>\n",
       "      <td>99</td>\n",
       "    </tr>\n",
       "    <tr>\n",
       "      <th>4</th>\n",
       "      <td>CS1850</td>\n",
       "      <td>20-Nov-13</td>\n",
       "      <td>78</td>\n",
       "    </tr>\n",
       "    <tr>\n",
       "      <th>...</th>\n",
       "      <td>...</td>\n",
       "      <td>...</td>\n",
       "      <td>...</td>\n",
       "    </tr>\n",
       "    <tr>\n",
       "      <th>124995</th>\n",
       "      <td>CS8433</td>\n",
       "      <td>26-Jun-11</td>\n",
       "      <td>64</td>\n",
       "    </tr>\n",
       "    <tr>\n",
       "      <th>124996</th>\n",
       "      <td>CS7232</td>\n",
       "      <td>19-Aug-14</td>\n",
       "      <td>38</td>\n",
       "    </tr>\n",
       "    <tr>\n",
       "      <th>124997</th>\n",
       "      <td>CS8731</td>\n",
       "      <td>28-Nov-14</td>\n",
       "      <td>42</td>\n",
       "    </tr>\n",
       "    <tr>\n",
       "      <th>124998</th>\n",
       "      <td>CS8133</td>\n",
       "      <td>14-Dec-13</td>\n",
       "      <td>13</td>\n",
       "    </tr>\n",
       "    <tr>\n",
       "      <th>124999</th>\n",
       "      <td>CS7996</td>\n",
       "      <td>13-Dec-14</td>\n",
       "      <td>36</td>\n",
       "    </tr>\n",
       "  </tbody>\n",
       "</table>\n",
       "<p>125000 rows × 3 columns</p>\n",
       "</div>"
      ],
      "text/plain": [
       "       customer_id trans_date  tran_amount\n",
       "0           CS5295  11-Feb-13           35\n",
       "1           CS4768  15-Mar-15           39\n",
       "2           CS2122  26-Feb-13           52\n",
       "3           CS1217  16-Nov-11           99\n",
       "4           CS1850  20-Nov-13           78\n",
       "...            ...        ...          ...\n",
       "124995      CS8433  26-Jun-11           64\n",
       "124996      CS7232  19-Aug-14           38\n",
       "124997      CS8731  28-Nov-14           42\n",
       "124998      CS8133  14-Dec-13           13\n",
       "124999      CS7996  13-Dec-14           36\n",
       "\n",
       "[125000 rows x 3 columns]"
      ]
     },
     "execution_count": 2,
     "metadata": {},
     "output_type": "execute_result"
    }
   ],
   "source": [
    "data = pd.read_csv('data_customer_classification.csv')\n",
    "data"
   ]
  },
  {
   "cell_type": "markdown",
   "metadata": {},
   "source": [
    "Se realiza la limpieza de datos\n",
    "* customer_id -> str\n",
    "* trans_date -> datetime DD-MM-YYYY\n",
    "* tran_amount -> float"
   ]
  },
  {
   "cell_type": "code",
   "execution_count": 3,
   "metadata": {},
   "outputs": [
    {
     "data": {
      "text/html": [
       "<div>\n",
       "<style scoped>\n",
       "    .dataframe tbody tr th:only-of-type {\n",
       "        vertical-align: middle;\n",
       "    }\n",
       "\n",
       "    .dataframe tbody tr th {\n",
       "        vertical-align: top;\n",
       "    }\n",
       "\n",
       "    .dataframe thead th {\n",
       "        text-align: right;\n",
       "    }\n",
       "</style>\n",
       "<table border=\"1\" class=\"dataframe\">\n",
       "  <thead>\n",
       "    <tr style=\"text-align: right;\">\n",
       "      <th></th>\n",
       "      <th>customer_id</th>\n",
       "      <th>trans_date</th>\n",
       "      <th>tran_amount</th>\n",
       "    </tr>\n",
       "  </thead>\n",
       "  <tbody>\n",
       "    <tr>\n",
       "      <th>0</th>\n",
       "      <td>CS5295</td>\n",
       "      <td>11-02-2013</td>\n",
       "      <td>35</td>\n",
       "    </tr>\n",
       "    <tr>\n",
       "      <th>1</th>\n",
       "      <td>CS4768</td>\n",
       "      <td>15-03-2015</td>\n",
       "      <td>39</td>\n",
       "    </tr>\n",
       "    <tr>\n",
       "      <th>2</th>\n",
       "      <td>CS2122</td>\n",
       "      <td>26-02-2013</td>\n",
       "      <td>52</td>\n",
       "    </tr>\n",
       "    <tr>\n",
       "      <th>3</th>\n",
       "      <td>CS1217</td>\n",
       "      <td>16-11-2011</td>\n",
       "      <td>99</td>\n",
       "    </tr>\n",
       "    <tr>\n",
       "      <th>4</th>\n",
       "      <td>CS1850</td>\n",
       "      <td>20-11-2013</td>\n",
       "      <td>78</td>\n",
       "    </tr>\n",
       "    <tr>\n",
       "      <th>...</th>\n",
       "      <td>...</td>\n",
       "      <td>...</td>\n",
       "      <td>...</td>\n",
       "    </tr>\n",
       "    <tr>\n",
       "      <th>124995</th>\n",
       "      <td>CS8433</td>\n",
       "      <td>26-06-2011</td>\n",
       "      <td>64</td>\n",
       "    </tr>\n",
       "    <tr>\n",
       "      <th>124996</th>\n",
       "      <td>CS7232</td>\n",
       "      <td>19-08-2014</td>\n",
       "      <td>38</td>\n",
       "    </tr>\n",
       "    <tr>\n",
       "      <th>124997</th>\n",
       "      <td>CS8731</td>\n",
       "      <td>28-11-2014</td>\n",
       "      <td>42</td>\n",
       "    </tr>\n",
       "    <tr>\n",
       "      <th>124998</th>\n",
       "      <td>CS8133</td>\n",
       "      <td>14-12-2013</td>\n",
       "      <td>13</td>\n",
       "    </tr>\n",
       "    <tr>\n",
       "      <th>124999</th>\n",
       "      <td>CS7996</td>\n",
       "      <td>13-12-2014</td>\n",
       "      <td>36</td>\n",
       "    </tr>\n",
       "  </tbody>\n",
       "</table>\n",
       "<p>125000 rows × 3 columns</p>\n",
       "</div>"
      ],
      "text/plain": [
       "       customer_id  trans_date  tran_amount\n",
       "0           CS5295  11-02-2013           35\n",
       "1           CS4768  15-03-2015           39\n",
       "2           CS2122  26-02-2013           52\n",
       "3           CS1217  16-11-2011           99\n",
       "4           CS1850  20-11-2013           78\n",
       "...            ...         ...          ...\n",
       "124995      CS8433  26-06-2011           64\n",
       "124996      CS7232  19-08-2014           38\n",
       "124997      CS8731  28-11-2014           42\n",
       "124998      CS8133  14-12-2013           13\n",
       "124999      CS7996  13-12-2014           36\n",
       "\n",
       "[125000 rows x 3 columns]"
      ]
     },
     "execution_count": 3,
     "metadata": {},
     "output_type": "execute_result"
    }
   ],
   "source": [
    "data['customer_id'] = data['customer_id'].astype('str')\n",
    "data['trans_date'] = pd.to_datetime(data['trans_date'], format='%d-%b-%y').dt.strftime('%d-%m-%Y')\n",
    "data['tran_amount'] = pd.to_numeric(data['tran_amount'], errors='coerce')\n",
    "data['tran_amount'] = data['tran_amount'].round(2)\n",
    "data"
   ]
  },
  {
   "cell_type": "markdown",
   "metadata": {},
   "source": [
    "Como tal no poseemos una clasificacion para poder categorizar a nuestros clientes. Por lo que primero con los datos que poseemos obtendremos la frecuencia con la que el cliente realiza compras en nuestra tienda. Esto lo realizaremos de la siguiente manera:"
   ]
  },
  {
   "cell_type": "code",
   "execution_count": 4,
   "metadata": {},
   "outputs": [
    {
     "data": {
      "text/html": [
       "<div>\n",
       "<style scoped>\n",
       "    .dataframe tbody tr th:only-of-type {\n",
       "        vertical-align: middle;\n",
       "    }\n",
       "\n",
       "    .dataframe tbody tr th {\n",
       "        vertical-align: top;\n",
       "    }\n",
       "\n",
       "    .dataframe thead th {\n",
       "        text-align: right;\n",
       "    }\n",
       "</style>\n",
       "<table border=\"1\" class=\"dataframe\">\n",
       "  <thead>\n",
       "    <tr style=\"text-align: right;\">\n",
       "      <th></th>\n",
       "      <th>customer_id</th>\n",
       "      <th>frequency_purchase</th>\n",
       "    </tr>\n",
       "  </thead>\n",
       "  <tbody>\n",
       "    <tr>\n",
       "      <th>0</th>\n",
       "      <td>CS1112</td>\n",
       "      <td>15</td>\n",
       "    </tr>\n",
       "    <tr>\n",
       "      <th>1</th>\n",
       "      <td>CS1113</td>\n",
       "      <td>20</td>\n",
       "    </tr>\n",
       "    <tr>\n",
       "      <th>2</th>\n",
       "      <td>CS1114</td>\n",
       "      <td>19</td>\n",
       "    </tr>\n",
       "    <tr>\n",
       "      <th>3</th>\n",
       "      <td>CS1115</td>\n",
       "      <td>22</td>\n",
       "    </tr>\n",
       "    <tr>\n",
       "      <th>4</th>\n",
       "      <td>CS1116</td>\n",
       "      <td>13</td>\n",
       "    </tr>\n",
       "    <tr>\n",
       "      <th>...</th>\n",
       "      <td>...</td>\n",
       "      <td>...</td>\n",
       "    </tr>\n",
       "    <tr>\n",
       "      <th>6884</th>\n",
       "      <td>CS8996</td>\n",
       "      <td>13</td>\n",
       "    </tr>\n",
       "    <tr>\n",
       "      <th>6885</th>\n",
       "      <td>CS8997</td>\n",
       "      <td>14</td>\n",
       "    </tr>\n",
       "    <tr>\n",
       "      <th>6886</th>\n",
       "      <td>CS8998</td>\n",
       "      <td>13</td>\n",
       "    </tr>\n",
       "    <tr>\n",
       "      <th>6887</th>\n",
       "      <td>CS8999</td>\n",
       "      <td>12</td>\n",
       "    </tr>\n",
       "    <tr>\n",
       "      <th>6888</th>\n",
       "      <td>CS9000</td>\n",
       "      <td>13</td>\n",
       "    </tr>\n",
       "  </tbody>\n",
       "</table>\n",
       "<p>6889 rows × 2 columns</p>\n",
       "</div>"
      ],
      "text/plain": [
       "     customer_id  frequency_purchase\n",
       "0         CS1112                  15\n",
       "1         CS1113                  20\n",
       "2         CS1114                  19\n",
       "3         CS1115                  22\n",
       "4         CS1116                  13\n",
       "...          ...                 ...\n",
       "6884      CS8996                  13\n",
       "6885      CS8997                  14\n",
       "6886      CS8998                  13\n",
       "6887      CS8999                  12\n",
       "6888      CS9000                  13\n",
       "\n",
       "[6889 rows x 2 columns]"
      ]
     },
     "execution_count": 4,
     "metadata": {},
     "output_type": "execute_result"
    }
   ],
   "source": [
    "frequency_client_purchase = data.groupby('customer_id')['trans_date'].count().reset_index()\n",
    "frequency_client_purchase = frequency_client_purchase.rename(columns={'trans_date': 'frequency_purchase'})\n",
    "\n",
    "frequency_client_purchase"
   ]
  },
  {
   "cell_type": "markdown",
   "metadata": {},
   "source": [
    "Ahora obtendremos las siguientes medidas de dispersion, como la media, el minimo, y el maximo. Pero principalmente utilizaremos el percentil 25%, 50%, 75%. Eso para poder clasificar con que frecuencia compran nuestros clientes que poseemos por ahora. Se hara de la siguiente manera:\n",
    "* Abajo del percentil 25% se tomaran como clientes bajos\n",
    "* Arriba del percentil 75% se tomaran como clientes altos\n",
    "* Los demas seran clientes medios"
   ]
  },
  {
   "cell_type": "code",
   "execution_count": 5,
   "metadata": {},
   "outputs": [
    {
     "data": {
      "text/plain": [
       "count    6889.000000\n",
       "mean       18.144869\n",
       "std         5.193014\n",
       "min         4.000000\n",
       "25%        14.000000\n",
       "50%        18.000000\n",
       "75%        22.000000\n",
       "max        39.000000\n",
       "Name: frequency_purchase, dtype: float64"
      ]
     },
     "execution_count": 5,
     "metadata": {},
     "output_type": "execute_result"
    }
   ],
   "source": [
    "summary_of_frecuency_client_purchase = frequency_client_purchase['frequency_purchase'].describe()\n",
    "summary_of_frecuency_client_purchase"
   ]
  },
  {
   "cell_type": "markdown",
   "metadata": {},
   "source": [
    "Ahora obtendremos el total de compras que realizan los clientes."
   ]
  },
  {
   "cell_type": "code",
   "execution_count": 6,
   "metadata": {},
   "outputs": [
    {
     "data": {
      "text/html": [
       "<div>\n",
       "<style scoped>\n",
       "    .dataframe tbody tr th:only-of-type {\n",
       "        vertical-align: middle;\n",
       "    }\n",
       "\n",
       "    .dataframe tbody tr th {\n",
       "        vertical-align: top;\n",
       "    }\n",
       "\n",
       "    .dataframe thead th {\n",
       "        text-align: right;\n",
       "    }\n",
       "</style>\n",
       "<table border=\"1\" class=\"dataframe\">\n",
       "  <thead>\n",
       "    <tr style=\"text-align: right;\">\n",
       "      <th></th>\n",
       "      <th>customer_id</th>\n",
       "      <th>total_purchase</th>\n",
       "    </tr>\n",
       "  </thead>\n",
       "  <tbody>\n",
       "    <tr>\n",
       "      <th>0</th>\n",
       "      <td>CS1112</td>\n",
       "      <td>1012</td>\n",
       "    </tr>\n",
       "    <tr>\n",
       "      <th>1</th>\n",
       "      <td>CS1113</td>\n",
       "      <td>1490</td>\n",
       "    </tr>\n",
       "    <tr>\n",
       "      <th>2</th>\n",
       "      <td>CS1114</td>\n",
       "      <td>1432</td>\n",
       "    </tr>\n",
       "    <tr>\n",
       "      <th>3</th>\n",
       "      <td>CS1115</td>\n",
       "      <td>1659</td>\n",
       "    </tr>\n",
       "    <tr>\n",
       "      <th>4</th>\n",
       "      <td>CS1116</td>\n",
       "      <td>857</td>\n",
       "    </tr>\n",
       "    <tr>\n",
       "      <th>...</th>\n",
       "      <td>...</td>\n",
       "      <td>...</td>\n",
       "    </tr>\n",
       "    <tr>\n",
       "      <th>6884</th>\n",
       "      <td>CS8996</td>\n",
       "      <td>582</td>\n",
       "    </tr>\n",
       "    <tr>\n",
       "      <th>6885</th>\n",
       "      <td>CS8997</td>\n",
       "      <td>543</td>\n",
       "    </tr>\n",
       "    <tr>\n",
       "      <th>6886</th>\n",
       "      <td>CS8998</td>\n",
       "      <td>624</td>\n",
       "    </tr>\n",
       "    <tr>\n",
       "      <th>6887</th>\n",
       "      <td>CS8999</td>\n",
       "      <td>383</td>\n",
       "    </tr>\n",
       "    <tr>\n",
       "      <th>6888</th>\n",
       "      <td>CS9000</td>\n",
       "      <td>533</td>\n",
       "    </tr>\n",
       "  </tbody>\n",
       "</table>\n",
       "<p>6889 rows × 2 columns</p>\n",
       "</div>"
      ],
      "text/plain": [
       "     customer_id  total_purchase\n",
       "0         CS1112            1012\n",
       "1         CS1113            1490\n",
       "2         CS1114            1432\n",
       "3         CS1115            1659\n",
       "4         CS1116             857\n",
       "...          ...             ...\n",
       "6884      CS8996             582\n",
       "6885      CS8997             543\n",
       "6886      CS8998             624\n",
       "6887      CS8999             383\n",
       "6888      CS9000             533\n",
       "\n",
       "[6889 rows x 2 columns]"
      ]
     },
     "execution_count": 6,
     "metadata": {},
     "output_type": "execute_result"
    }
   ],
   "source": [
    "total_purchases_per_customer = data.groupby('customer_id')['tran_amount'].sum().reset_index()\n",
    "total_purchases_per_customer = total_purchases_per_customer.rename(columns={'tran_amount': 'total_purchase'})\n",
    "\n",
    "total_purchases_per_customer"
   ]
  },
  {
   "cell_type": "markdown",
   "metadata": {},
   "source": [
    "Y como en el caso de la frecuencia de compra, seguiremos la misma logica:\n",
    "* Abajo del percentil 25% se tomaran como clientes bajos\n",
    "* Arriba del percentil 75% se tomaran como clientes altos\n",
    "* Los demas seran clientes medios"
   ]
  },
  {
   "cell_type": "code",
   "execution_count": 7,
   "metadata": {},
   "outputs": [
    {
     "data": {
      "text/plain": [
       "count    6889.000000\n",
       "mean     1179.269705\n",
       "std       465.832609\n",
       "min       149.000000\n",
       "25%       781.000000\n",
       "50%      1227.000000\n",
       "75%      1520.000000\n",
       "max      2933.000000\n",
       "Name: total_purchase, dtype: float64"
      ]
     },
     "execution_count": 7,
     "metadata": {},
     "output_type": "execute_result"
    }
   ],
   "source": [
    "summary_of_total_purchases_per_customer = total_purchases_per_customer['total_purchase'].describe()\n",
    "summary_of_total_purchases_per_customer"
   ]
  },
  {
   "cell_type": "code",
   "execution_count": 8,
   "metadata": {},
   "outputs": [],
   "source": [
    "def define_category_of_client(row):\n",
    "    if row['total_purchase'] <= 781 and row['frequency_purchase'] <= 14:\n",
    "        return 1\n",
    "    elif row['total_purchase'] >= 1520 and row['frequency_purchase'] >= 22:\n",
    "        return 3\n",
    "    else:\n",
    "        return 2\n"
   ]
  },
  {
   "cell_type": "markdown",
   "metadata": {},
   "source": [
    "Al final obtendremos un solo dataframe que contenga la frecuencia de compra, el total de compra y que tipo de categorizacion sera:\n",
    "* 1 seran clientes bajos\n",
    "* 2 seran clientes medios\n",
    "* 3 seran clientes altos"
   ]
  },
  {
   "cell_type": "code",
   "execution_count": 58,
   "metadata": {},
   "outputs": [
    {
     "data": {
      "text/html": [
       "<div>\n",
       "<style scoped>\n",
       "    .dataframe tbody tr th:only-of-type {\n",
       "        vertical-align: middle;\n",
       "    }\n",
       "\n",
       "    .dataframe tbody tr th {\n",
       "        vertical-align: top;\n",
       "    }\n",
       "\n",
       "    .dataframe thead th {\n",
       "        text-align: right;\n",
       "    }\n",
       "</style>\n",
       "<table border=\"1\" class=\"dataframe\">\n",
       "  <thead>\n",
       "    <tr style=\"text-align: right;\">\n",
       "      <th></th>\n",
       "      <th>customer_id</th>\n",
       "      <th>total_purchase</th>\n",
       "      <th>frequency_purchase</th>\n",
       "      <th>client_category</th>\n",
       "    </tr>\n",
       "  </thead>\n",
       "  <tbody>\n",
       "    <tr>\n",
       "      <th>0</th>\n",
       "      <td>CS1112</td>\n",
       "      <td>1012</td>\n",
       "      <td>15</td>\n",
       "      <td>2</td>\n",
       "    </tr>\n",
       "    <tr>\n",
       "      <th>1</th>\n",
       "      <td>CS1113</td>\n",
       "      <td>1490</td>\n",
       "      <td>20</td>\n",
       "      <td>2</td>\n",
       "    </tr>\n",
       "    <tr>\n",
       "      <th>2</th>\n",
       "      <td>CS1114</td>\n",
       "      <td>1432</td>\n",
       "      <td>19</td>\n",
       "      <td>2</td>\n",
       "    </tr>\n",
       "    <tr>\n",
       "      <th>3</th>\n",
       "      <td>CS1115</td>\n",
       "      <td>1659</td>\n",
       "      <td>22</td>\n",
       "      <td>3</td>\n",
       "    </tr>\n",
       "    <tr>\n",
       "      <th>4</th>\n",
       "      <td>CS1116</td>\n",
       "      <td>857</td>\n",
       "      <td>13</td>\n",
       "      <td>2</td>\n",
       "    </tr>\n",
       "    <tr>\n",
       "      <th>...</th>\n",
       "      <td>...</td>\n",
       "      <td>...</td>\n",
       "      <td>...</td>\n",
       "      <td>...</td>\n",
       "    </tr>\n",
       "    <tr>\n",
       "      <th>6884</th>\n",
       "      <td>CS8996</td>\n",
       "      <td>582</td>\n",
       "      <td>13</td>\n",
       "      <td>1</td>\n",
       "    </tr>\n",
       "    <tr>\n",
       "      <th>6885</th>\n",
       "      <td>CS8997</td>\n",
       "      <td>543</td>\n",
       "      <td>14</td>\n",
       "      <td>1</td>\n",
       "    </tr>\n",
       "    <tr>\n",
       "      <th>6886</th>\n",
       "      <td>CS8998</td>\n",
       "      <td>624</td>\n",
       "      <td>13</td>\n",
       "      <td>1</td>\n",
       "    </tr>\n",
       "    <tr>\n",
       "      <th>6887</th>\n",
       "      <td>CS8999</td>\n",
       "      <td>383</td>\n",
       "      <td>12</td>\n",
       "      <td>1</td>\n",
       "    </tr>\n",
       "    <tr>\n",
       "      <th>6888</th>\n",
       "      <td>CS9000</td>\n",
       "      <td>533</td>\n",
       "      <td>13</td>\n",
       "      <td>1</td>\n",
       "    </tr>\n",
       "  </tbody>\n",
       "</table>\n",
       "<p>6889 rows × 4 columns</p>\n",
       "</div>"
      ],
      "text/plain": [
       "     customer_id  total_purchase  frequency_purchase  client_category\n",
       "0         CS1112            1012                  15                2\n",
       "1         CS1113            1490                  20                2\n",
       "2         CS1114            1432                  19                2\n",
       "3         CS1115            1659                  22                3\n",
       "4         CS1116             857                  13                2\n",
       "...          ...             ...                 ...              ...\n",
       "6884      CS8996             582                  13                1\n",
       "6885      CS8997             543                  14                1\n",
       "6886      CS8998             624                  13                1\n",
       "6887      CS8999             383                  12                1\n",
       "6888      CS9000             533                  13                1\n",
       "\n",
       "[6889 rows x 4 columns]"
      ]
     },
     "execution_count": 58,
     "metadata": {},
     "output_type": "execute_result"
    }
   ],
   "source": [
    "df_combined = pd.merge(total_purchases_per_customer, frequency_client_purchase, on='customer_id')\n",
    "df_combined['client_category'] = df_combined.apply(define_category_of_client, axis=1)\n",
    "df_combined.to_csv('df_combined.csv', index=False)\n",
    "df_combined"
   ]
  },
  {
   "cell_type": "markdown",
   "metadata": {},
   "source": [
    "Por ultimo, realizaremos un grafico de dispersion para poder ver como es que estan clasificados nuestros clientes y corroborrar que se realizo de la manera correcta."
   ]
  },
  {
   "cell_type": "code",
   "execution_count": 10,
   "metadata": {},
   "outputs": [
    {
     "data": {
      "image/png": "[encoded data removed]",
      "text/plain": [
       "<Figure size 517.861x400 with 6 Axes>"
      ]
     },
     "metadata": {},
     "output_type": "display_data"
    }
   ],
   "source": [
    "sns.pairplot(df_combined, hue='client_category', height=2, palette='colorblind')\n",
    "plt.show()"
   ]
  },
  {
   "cell_type": "markdown",
   "metadata": {},
   "source": [
    "### Construccion modelo "
   ]
  },
  {
   "cell_type": "code",
   "execution_count": 20,
   "metadata": {},
   "outputs": [],
   "source": [
    "import numpy as np\n",
    "import pandas as pd\n",
    "from sklearn.model_selection import train_test_split\n",
    "from sklearn.preprocessing import StandardScaler\n",
    "from keras.models import Sequential\n",
    "from keras.layers import Dense\n",
    "from keras.utils import to_categorical"
   ]
  },
  {
   "cell_type": "markdown",
   "metadata": {},
   "source": [
    "Divideremos los datos en características (X) y etiquetas (y), donde x seran los valores para poder predecir y y sera el valor resultante predicto. "
   ]
  },
  {
   "cell_type": "code",
   "execution_count": 21,
   "metadata": {},
   "outputs": [],
   "source": [
    "X = df_combined[['total_purchase', 'frequency_purchase']].values\n",
    "y = df_combined['client_category'].values"
   ]
  },
  {
   "cell_type": "markdown",
   "metadata": {},
   "source": [
    "Escalaremos los datos x para tenerlos normalizados, es decir, tener valores entre 0-1"
   ]
  },
  {
   "cell_type": "code",
   "execution_count": 22,
   "metadata": {},
   "outputs": [],
   "source": [
    "scaler = StandardScaler()\n",
    "X = scaler.fit_transform(X)"
   ]
  },
  {
   "cell_type": "markdown",
   "metadata": {},
   "source": [
    "Repartiremos el 100% de los datos en 80% para entrenar el modelo y el resto para poder realizar test."
   ]
  },
  {
   "cell_type": "code",
   "execution_count": 23,
   "metadata": {},
   "outputs": [],
   "source": [
    "X_train, X_test, y_train, y_test = train_test_split(X, y, test_size=0.2, random_state=42)\n",
    "y_train = to_categorical(y_train - 1, num_classes=3)  # Resta 1 para que las categorías sean 0, 1 y 2"
   ]
  },
  {
   "cell_type": "markdown",
   "metadata": {},
   "source": [
    "Crearemos el modelo secuencial donde todas las capas estan conectadas entre si. \n",
    "* La primer capa utilizara 64 neuoras e input 2 ya que son las dos caracteristicas que se utilizaran. \n",
    "* La segunda capa tendra la mitad y con una funcion de activacion relu\n",
    "* La tercera capa tendra 3 ya que son los 3 tipos de clasificacion que hay para este problema, ademas que para problemas de clasificacion en la ultima capa es recomendable utilizar la funcion de activacion de softmax, basicamente brinda probabilidades para cada clase"
   ]
  },
  {
   "cell_type": "code",
   "execution_count": 24,
   "metadata": {},
   "outputs": [],
   "source": [
    "model = Sequential()\n",
    "model.add(Dense(64, input_dim=2, activation='relu'))\n",
    "model.add(Dense(32, activation='relu'))\n",
    "model.add(Dense(3, activation='softmax'))"
   ]
  },
  {
   "cell_type": "markdown",
   "metadata": {},
   "source": [
    "Compilar el modelo, utilizando loss como parametro para la funcion perdida que para problemas de clasificacion se utiliza 'categorical_crossentropy', optimizer para ajustar los pesos de la red neuronal."
   ]
  },
  {
   "cell_type": "code",
   "execution_count": 25,
   "metadata": {},
   "outputs": [],
   "source": [
    "model.compile(loss='categorical_crossentropy', optimizer='adam', metrics=['accuracy'])"
   ]
  },
  {
   "cell_type": "markdown",
   "metadata": {},
   "source": [
    "Entrenamos el modelo, con 50 epocas ya que no es un problema tan exigente. Donde en cada entrenamiento se dividaran en espacios de 32."
   ]
  },
  {
   "cell_type": "code",
   "execution_count": 26,
   "metadata": {},
   "outputs": [
    {
     "name": "stdout",
     "output_type": "stream",
     "text": [
      "Epoch 1/50\n",
      "173/173 [==============================] - 1s 2ms/step - loss: 0.5004 - accuracy: 0.8694\n",
      "Epoch 2/50\n",
      "173/173 [==============================] - 0s 3ms/step - loss: 0.1132 - accuracy: 0.9750\n",
      "Epoch 3/50\n",
      "173/173 [==============================] - 0s 2ms/step - loss: 0.0766 - accuracy: 0.9786\n",
      "Epoch 4/50\n",
      "173/173 [==============================] - 0s 2ms/step - loss: 0.0629 - accuracy: 0.9831\n",
      "Epoch 5/50\n",
      "173/173 [==============================] - 0s 2ms/step - loss: 0.0512 - accuracy: 0.9864\n",
      "Epoch 6/50\n",
      "173/173 [==============================] - 0s 2ms/step - loss: 0.0443 - accuracy: 0.9906\n",
      "Epoch 7/50\n",
      "173/173 [==============================] - 0s 2ms/step - loss: 0.0375 - accuracy: 0.9920\n",
      "Epoch 8/50\n",
      "173/173 [==============================] - 0s 2ms/step - loss: 0.0345 - accuracy: 0.9913\n",
      "Epoch 9/50\n",
      "173/173 [==============================] - 0s 2ms/step - loss: 0.0306 - accuracy: 0.9927\n",
      "Epoch 10/50\n",
      "173/173 [==============================] - 0s 2ms/step - loss: 0.0259 - accuracy: 0.9942\n",
      "Epoch 11/50\n",
      "173/173 [==============================] - 0s 2ms/step - loss: 0.0233 - accuracy: 0.9946\n",
      "Epoch 12/50\n",
      "173/173 [==============================] - 0s 2ms/step - loss: 0.0221 - accuracy: 0.9951\n",
      "Epoch 13/50\n",
      "173/173 [==============================] - 0s 2ms/step - loss: 0.0197 - accuracy: 0.9951\n",
      "Epoch 14/50\n",
      "173/173 [==============================] - 0s 2ms/step - loss: 0.0201 - accuracy: 0.9938\n",
      "Epoch 15/50\n",
      "173/173 [==============================] - 0s 2ms/step - loss: 0.0191 - accuracy: 0.9933\n",
      "Epoch 16/50\n",
      "173/173 [==============================] - 1s 3ms/step - loss: 0.0173 - accuracy: 0.9955\n",
      "Epoch 17/50\n",
      "173/173 [==============================] - 0s 2ms/step - loss: 0.0162 - accuracy: 0.9938\n",
      "Epoch 18/50\n",
      "173/173 [==============================] - 0s 2ms/step - loss: 0.0180 - accuracy: 0.9927\n",
      "Epoch 19/50\n",
      "173/173 [==============================] - 0s 2ms/step - loss: 0.0152 - accuracy: 0.9949\n",
      "Epoch 20/50\n",
      "173/173 [==============================] - 0s 2ms/step - loss: 0.0142 - accuracy: 0.9949\n",
      "Epoch 21/50\n",
      "173/173 [==============================] - 0s 2ms/step - loss: 0.0132 - accuracy: 0.9955\n",
      "Epoch 22/50\n",
      "173/173 [==============================] - 0s 2ms/step - loss: 0.0144 - accuracy: 0.9947\n",
      "Epoch 23/50\n",
      "173/173 [==============================] - 0s 2ms/step - loss: 0.0125 - accuracy: 0.9962\n",
      "Epoch 24/50\n",
      "173/173 [==============================] - 0s 2ms/step - loss: 0.0124 - accuracy: 0.9960\n",
      "Epoch 25/50\n",
      "173/173 [==============================] - 0s 2ms/step - loss: 0.0134 - accuracy: 0.9949\n",
      "Epoch 26/50\n",
      "173/173 [==============================] - 0s 2ms/step - loss: 0.0165 - accuracy: 0.9927\n",
      "Epoch 27/50\n",
      "173/173 [==============================] - 0s 2ms/step - loss: 0.0129 - accuracy: 0.9946\n",
      "Epoch 28/50\n",
      "173/173 [==============================] - 0s 2ms/step - loss: 0.0139 - accuracy: 0.9955\n",
      "Epoch 29/50\n",
      "173/173 [==============================] - 0s 2ms/step - loss: 0.0114 - accuracy: 0.9966\n",
      "Epoch 30/50\n",
      "173/173 [==============================] - 0s 2ms/step - loss: 0.0113 - accuracy: 0.9953\n",
      "Epoch 31/50\n",
      "173/173 [==============================] - 0s 2ms/step - loss: 0.0116 - accuracy: 0.9956\n",
      "Epoch 32/50\n",
      "173/173 [==============================] - 0s 3ms/step - loss: 0.0131 - accuracy: 0.9947\n",
      "Epoch 33/50\n",
      "173/173 [==============================] - 0s 2ms/step - loss: 0.0123 - accuracy: 0.9949\n",
      "Epoch 34/50\n",
      "173/173 [==============================] - 0s 2ms/step - loss: 0.0100 - accuracy: 0.9976\n",
      "Epoch 35/50\n",
      "173/173 [==============================] - 0s 3ms/step - loss: 0.0100 - accuracy: 0.9966\n",
      "Epoch 36/50\n",
      "173/173 [==============================] - 0s 2ms/step - loss: 0.0143 - accuracy: 0.9938\n",
      "Epoch 37/50\n",
      "173/173 [==============================] - 0s 2ms/step - loss: 0.0112 - accuracy: 0.9955\n",
      "Epoch 38/50\n",
      "173/173 [==============================] - 0s 2ms/step - loss: 0.0142 - accuracy: 0.9940\n",
      "Epoch 39/50\n",
      "173/173 [==============================] - 0s 2ms/step - loss: 0.0100 - accuracy: 0.9964\n",
      "Epoch 40/50\n",
      "173/173 [==============================] - 0s 2ms/step - loss: 0.0103 - accuracy: 0.9953\n",
      "Epoch 41/50\n",
      "173/173 [==============================] - 0s 2ms/step - loss: 0.0098 - accuracy: 0.9958\n",
      "Epoch 42/50\n",
      "173/173 [==============================] - 0s 2ms/step - loss: 0.0119 - accuracy: 0.9949\n",
      "Epoch 43/50\n",
      "173/173 [==============================] - 0s 2ms/step - loss: 0.0122 - accuracy: 0.9947\n",
      "Epoch 44/50\n",
      "173/173 [==============================] - 0s 2ms/step - loss: 0.0102 - accuracy: 0.9956\n",
      "Epoch 45/50\n",
      "173/173 [==============================] - 0s 2ms/step - loss: 0.0106 - accuracy: 0.9949\n",
      "Epoch 46/50\n",
      "173/173 [==============================] - 0s 2ms/step - loss: 0.0105 - accuracy: 0.9951\n",
      "Epoch 47/50\n",
      "173/173 [==============================] - 0s 2ms/step - loss: 0.0099 - accuracy: 0.9960\n",
      "Epoch 48/50\n",
      "173/173 [==============================] - 0s 2ms/step - loss: 0.0085 - accuracy: 0.9969\n",
      "Epoch 49/50\n",
      "173/173 [==============================] - 0s 2ms/step - loss: 0.0096 - accuracy: 0.9958\n",
      "Epoch 50/50\n",
      "173/173 [==============================] - 0s 2ms/step - loss: 0.0119 - accuracy: 0.9949\n"
     ]
    },
    {
     "data": {
      "text/plain": [
       "<keras.src.callbacks.History at 0x7f922f564250>"
      ]
     },
     "execution_count": 26,
     "metadata": {},
     "output_type": "execute_result"
    }
   ],
   "source": [
    "model.fit(X_train, y_train, epochs=50, batch_size=32, verbose=1)"
   ]
  },
  {
   "cell_type": "markdown",
   "metadata": {},
   "source": [
    "Ahora comprobaremos cuanto fue la perdida del modelo y la exactitud del modelo que para este caso es del 0.99, es decir del 99%"
   ]
  },
  {
   "cell_type": "code",
   "execution_count": 28,
   "metadata": {},
   "outputs": [
    {
     "name": "stdout",
     "output_type": "stream",
     "text": [
      "44/44 [==============================] - 0s 2ms/step - loss: 0.0237 - accuracy: 0.9927\n",
      "Loss: 0.023728491738438606, Accuracy: 0.9927431344985962\n"
     ]
    }
   ],
   "source": [
    "y_test_encoded = to_categorical(y_test - 1, num_classes=3)\n",
    "loss, accuracy = model.evaluate(X_test, y_test_encoded)\n",
    "print(f'Loss: {loss}, Accuracy: {accuracy}')"
   ]
  },
  {
   "cell_type": "code",
   "execution_count": 29,
   "metadata": {},
   "outputs": [
    {
     "name": "stderr",
     "output_type": "stream",
     "text": [
      "/home/yossu/anaconda3/envs/PruebaTecnicaGBM/lib/python3.10/site-packages/keras/src/engine/training.py:3079: UserWarning: You are saving your model as an HDF5 file via `model.save()`. This file format is considered legacy. We recommend using instead the native Keras format, e.g. `model.save('my_model.keras')`.\n",
      "  saving_api.save_model(\n"
     ]
    }
   ],
   "source": [
    "model.save('data_customer_classification.h5')"
   ]
  },
  {
   "cell_type": "markdown",
   "metadata": {},
   "source": [
    "### Pruebas unitarias. "
   ]
  },
  {
   "cell_type": "code",
   "execution_count": 53,
   "metadata": {},
   "outputs": [],
   "source": [
    "from keras.models import load_model"
   ]
  },
  {
   "cell_type": "code",
   "execution_count": 54,
   "metadata": {},
   "outputs": [],
   "source": [
    "def prediction_model(value_purchase, value_frequency):\n",
    "    model = load_model('data_customer_classification.h5')\n",
    "\n",
    "    nuevos_datos = np.array([[value_purchase, value_frequency]])  \n",
    "\n",
    "    nuevos_datos = scaler.transform(nuevos_datos)\n",
    "\n",
    "    predicciones = model.predict(nuevos_datos)\n",
    "\n",
    "    categorias_predichas = np.argmax(predicciones, axis=1) + 1  \n",
    "    return categorias_predichas"
   ]
  },
  {
   "cell_type": "code",
   "execution_count": 56,
   "metadata": {},
   "outputs": [
    {
     "name": "stdout",
     "output_type": "stream",
     "text": [
      "1/1 [==============================] - 0s 52ms/step\n",
      "[3]\n",
      "1/1 [==============================] - 0s 76ms/step\n",
      "[1]\n",
      "1/1 [==============================] - 0s 51ms/step\n",
      "[2]\n"
     ]
    }
   ],
   "source": [
    "print(prediction_model(1525, 25)) # 3 -> High client\n",
    "print(prediction_model(779, 10)) # 1 -> low client\n",
    "print(prediction_model(1250, 15)) # 2 -> medium client"
   ]
  }
 ],
 "metadata": {
  "kernelspec": {
   "display_name": "PruebaTecnicaGBM",
   "language": "python",
   "name": "python3"
  },
  "language_info": {
   "codemirror_mode": {
    "name": "ipython",
    "version": 3
   },
   "file_extension": ".py",
   "mimetype": "text/x-python",
   "name": "python",
   "nbconvert_exporter": "python",
   "pygments_lexer": "ipython3",
   "version": "3.10.13"
  }
 },
 "nbformat": 4,
 "nbformat_minor": 2
}
